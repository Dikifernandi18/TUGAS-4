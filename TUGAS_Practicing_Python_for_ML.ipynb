{
  "nbformat": 4,
  "nbformat_minor": 0,
  "metadata": {
    "colab": {
      "provenance": []
    },
    "kernelspec": {
      "name": "python3",
      "display_name": "Python 3"
    },
    "language_info": {
      "name": "python"
    }
  },
  "cells": [
    {
      "cell_type": "code",
      "execution_count": 3,
      "metadata": {
        "colab": {
          "base_uri": "https://localhost:8080/"
        },
        "id": "uiPsiz3r3_Uv",
        "outputId": "0ea91bf8-4b09-4c11-930e-54d4145bfdb8"
      },
      "outputs": [
        {
          "output_type": "stream",
          "name": "stdout",
          "text": [
            "                     Accuracy  setosa_Precision  setosa_Recall  setosa_F1  \\\n",
            "Logistic Regression  1.000000               1.0            1.0        1.0   \n",
            "LDA                  1.000000               1.0            1.0        1.0   \n",
            "KNN                  1.000000               1.0            1.0        1.0   \n",
            "CART                 1.000000               1.0            1.0        1.0   \n",
            "Naive Bayes          0.977778               1.0            1.0        1.0   \n",
            "SVM                  1.000000               1.0            1.0        1.0   \n",
            "\n",
            "                     versicolor_Precision  versicolor_Recall  versicolor_F1  \\\n",
            "Logistic Regression                   1.0           1.000000           1.00   \n",
            "LDA                                   1.0           1.000000           1.00   \n",
            "KNN                                   1.0           1.000000           1.00   \n",
            "CART                                  1.0           1.000000           1.00   \n",
            "Naive Bayes                           1.0           0.923077           0.96   \n",
            "SVM                                   1.0           1.000000           1.00   \n",
            "\n",
            "                     virginica_Precision  virginica_Recall  virginica_F1  \n",
            "Logistic Regression             1.000000               1.0      1.000000  \n",
            "LDA                             1.000000               1.0      1.000000  \n",
            "KNN                             1.000000               1.0      1.000000  \n",
            "CART                            1.000000               1.0      1.000000  \n",
            "Naive Bayes                     0.928571               1.0      0.962963  \n",
            "SVM                             1.000000               1.0      1.000000  \n"
          ]
        }
      ],
      "source": [
        "from sklearn.datasets import load_iris\n",
        "from sklearn.model_selection import train_test_split\n",
        "from sklearn.linear_model import LogisticRegression\n",
        "from sklearn.discriminant_analysis import LinearDiscriminantAnalysis\n",
        "from sklearn.neighbors import KNeighborsClassifier\n",
        "from sklearn.tree import DecisionTreeClassifier\n",
        "from sklearn.naive_bayes import GaussianNB\n",
        "from sklearn.svm import SVC\n",
        "from sklearn.metrics import classification_report, accuracy_score\n",
        "import pandas as pd\n",
        "\n",
        "# Load dataset Iris\n",
        "iris = load_iris()\n",
        "X = iris.data\n",
        "y = iris.target\n",
        "label_names = iris.target_names  # ['setosa', 'versicolor', 'virginica']\n",
        "\n",
        "# Bagi data menjadi data latih dan data uji\n",
        "X_train, X_test, y_train, y_test = train_test_split(X, y, test_size=0.3, random_state=42)\n",
        "\n",
        "# Daftar model yang akan diuji\n",
        "models = {\n",
        "    \"Logistic Regression\": LogisticRegression(max_iter=200),\n",
        "    \"LDA\": LinearDiscriminantAnalysis(),\n",
        "    \"KNN\": KNeighborsClassifier(),\n",
        "    \"CART\": DecisionTreeClassifier(),\n",
        "    \"Naive Bayes\": GaussianNB(),\n",
        "    \"SVM\": SVC()\n",
        "}\n",
        "\n",
        "# Simpan hasil evaluasi\n",
        "results = {}\n",
        "\n",
        "for name, model in models.items():\n",
        "    model.fit(X_train, y_train)\n",
        "    y_pred = model.predict(X_test)\n",
        "\n",
        "    # Hitung akurasi\n",
        "    accuracy = accuracy_score(y_test, y_pred)\n",
        "\n",
        "    # Dapatkan classification report dalam bentuk dictionary\n",
        "    report = classification_report(y_test, y_pred, output_dict=True)\n",
        "\n",
        "    # Simpan hasil\n",
        "    results[name] = {\"Accuracy\": accuracy}\n",
        "\n",
        "    for i, label in enumerate(label_names):\n",
        "        metrics = report[str(i)]  # label: '0', '1', '2'\n",
        "        results[name][f\"{label}_Precision\"] = metrics['precision']\n",
        "        results[name][f\"{label}_Recall\"] = metrics['recall']\n",
        "        results[name][f\"{label}_F1\"] = metrics['f1-score']\n",
        "\n",
        "# Tampilkan hasil dalam bentuk tabel\n",
        "df_results = pd.DataFrame(results).T  # Transpose untuk pembacaan lebih baik\n",
        "print(df_results)\n"
      ]
    }
  ]
}